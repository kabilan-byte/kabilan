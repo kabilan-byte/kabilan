{
 "cells": [
  {
   "cell_type": "code",
   "execution_count": 44,
   "id": "d7dd04cb",
   "metadata": {},
   "outputs": [],
   "source": [
    "import numpy as np\n",
    "\n"
   ]
  },
  {
   "cell_type": "code",
   "execution_count": 50,
   "id": "b690c3e9",
   "metadata": {},
   "outputs": [
    {
     "ename": "ModuleNotFoundError",
     "evalue": "No module named 'scipy'",
     "output_type": "error",
     "traceback": [
      "\u001b[31m---------------------------------------------------------------------------\u001b[39m",
      "\u001b[31mModuleNotFoundError\u001b[39m                       Traceback (most recent call last)",
      "\u001b[36mCell\u001b[39m\u001b[36m \u001b[39m\u001b[32mIn[50]\u001b[39m\u001b[32m, line 2\u001b[39m\n\u001b[32m      1\u001b[39m \u001b[38;5;28;01mimport\u001b[39;00m\u001b[38;5;250m \u001b[39m\u001b[34;01mmatplotlib\u001b[39;00m\u001b[34;01m.\u001b[39;00m\u001b[34;01mpyplot\u001b[39;00m\u001b[38;5;250m \u001b[39m\u001b[38;5;28;01mas\u001b[39;00m\u001b[38;5;250m \u001b[39m\u001b[34;01mplt\u001b[39;00m\n\u001b[32m----> \u001b[39m\u001b[32m2\u001b[39m \u001b[38;5;28;01mimport\u001b[39;00m\u001b[38;5;250m \u001b[39m\u001b[34;01mscipy\u001b[39;00m\u001b[34;01m.\u001b[39;00m\u001b[34;01mstats\u001b[39;00m\u001b[38;5;250m \u001b[39m\u001b[38;5;28;01mas\u001b[39;00m\u001b[38;5;250m \u001b[39m\u001b[34;01mstats\u001b[39;00m\n",
      "\u001b[31mModuleNotFoundError\u001b[39m: No module named 'scipy'"
     ]
    }
   ],
   "source": [
    "import matplotlib.pyplot as plt\n",
    "import scipy.stats as stats"
   ]
  },
  {
   "cell_type": "code",
   "execution_count": 46,
   "id": "f2438bb5",
   "metadata": {},
   "outputs": [],
   "source": [
    "#sample data with an outliers"
   ]
  },
  {
   "cell_type": "code",
   "execution_count": 47,
   "id": "d70ea3bd",
   "metadata": {},
   "outputs": [],
   "source": [
    "data = np.array([ 250,275,300,320, 325,330,350,360,10000])  "
   ]
  },
  {
   "cell_type": "code",
   "execution_count": 51,
   "id": "ed296cf2",
   "metadata": {},
   "outputs": [
    {
     "ename": "NameError",
     "evalue": "name 'stats' is not defined",
     "output_type": "error",
     "traceback": [
      "\u001b[31m---------------------------------------------------------------------------\u001b[39m",
      "\u001b[31mNameError\u001b[39m                                 Traceback (most recent call last)",
      "\u001b[36mCell\u001b[39m\u001b[36m \u001b[39m\u001b[32mIn[51]\u001b[39m\u001b[32m, line 2\u001b[39m\n\u001b[32m      1\u001b[39m \u001b[38;5;66;03m#caculate z-scores for each data point\u001b[39;00m\n\u001b[32m----> \u001b[39m\u001b[32m2\u001b[39m z_scores = np.abs(\u001b[43mstats\u001b[49m.zscore(data))\n",
      "\u001b[31mNameError\u001b[39m: name 'stats' is not defined"
     ]
    }
   ],
   "source": [
    "#caculate z-scores for each data point\n",
    "z_scores = np.abs(stats.zscore(data))"
   ]
  },
  {
   "cell_type": "code",
   "execution_count": 49,
   "id": "8ee92e1d",
   "metadata": {},
   "outputs": [
    {
     "ename": "NameError",
     "evalue": "name 'stats' is not defined",
     "output_type": "error",
     "traceback": [
      "\u001b[31m---------------------------------------------------------------------------\u001b[39m",
      "\u001b[31mNameError\u001b[39m                                 Traceback (most recent call last)",
      "\u001b[36mCell\u001b[39m\u001b[36m \u001b[39m\u001b[32mIn[49]\u001b[39m\u001b[32m, line 2\u001b[39m\n\u001b[32m      1\u001b[39m \u001b[38;5;66;03m# Calculate the z-scores for each data point\u001b[39;00m\n\u001b[32m----> \u001b[39m\u001b[32m2\u001b[39m z_scores = np.abs(\u001b[43mstats\u001b[49m.zscore(data))\n",
      "\u001b[31mNameError\u001b[39m: name 'stats' is not defined"
     ]
    }
   ],
   "source": [
    "\n",
    "# Calculate the z-scores for each data point\n",
    "z_scores = np.abs(stats.zscore(data))\n",
    "\n"
   ]
  },
  {
   "cell_type": "code",
   "execution_count": 52,
   "id": "2fcb80a8",
   "metadata": {},
   "outputs": [
    {
     "name": "stderr",
     "output_type": "stream",
     "text": [
      "'pip' is not recognized as an internal or external command,\n",
      "operable program or batch file.\n"
     ]
    }
   ],
   "source": [
    "!pip install scipy\n"
   ]
  },
  {
   "cell_type": "code",
   "execution_count": null,
   "id": "f8e91ed5",
   "metadata": {},
   "outputs": [
    {
     "ename": "ModuleNotFoundError",
     "evalue": "No module named 'scipy'",
     "output_type": "error",
     "traceback": [
      "\u001b[31m---------------------------------------------------------------------------\u001b[39m",
      "\u001b[31mModuleNotFoundError\u001b[39m                       Traceback (most recent call last)",
      "\u001b[36mCell\u001b[39m\u001b[36m \u001b[39m\u001b[32mIn[41]\u001b[39m\u001b[32m, line 1\u001b[39m\n\u001b[32m----> \u001b[39m\u001b[32m1\u001b[39m \u001b[38;5;28;01mfrom\u001b[39;00m\u001b[38;5;250m \u001b[39m\u001b[34;01mscipy\u001b[39;00m\u001b[38;5;250m \u001b[39m\u001b[38;5;28;01mimport\u001b[39;00m stats\n",
      "\u001b[31mModuleNotFoundError\u001b[39m: No module named 'scipy'"
     ]
    }
   ],
   "source": [
    "from scipy import stats\n"
   ]
  },
  {
   "cell_type": "code",
   "execution_count": 55,
   "id": "6e57481d",
   "metadata": {},
   "outputs": [
    {
     "name": "stdout",
     "output_type": "stream",
     "text": [
      "Collecting scipy\n",
      "  Downloading scipy-1.16.1-cp313-cp313-win_amd64.whl.metadata (60 kB)\n",
      "Requirement already satisfied: numpy<2.6,>=1.25.2 in c:\\users\\admin\\appdata\\local\\programs\\python\\python313\\lib\\site-packages (from scipy) (2.3.2)\n",
      "Downloading scipy-1.16.1-cp313-cp313-win_amd64.whl (38.5 MB)\n",
      "   ---------------------------------------- 0.0/38.5 MB ? eta -:--:--\n",
      "   ---------------------------------------- 0.3/38.5 MB ? eta -:--:--\n",
      "    --------------------------------------- 0.5/38.5 MB 1.7 MB/s eta 0:00:23\n",
      "   - -------------------------------------- 1.0/38.5 MB 2.0 MB/s eta 0:00:20\n",
      "   - -------------------------------------- 1.6/38.5 MB 2.1 MB/s eta 0:00:18\n",
      "   -- ------------------------------------- 2.1/38.5 MB 2.3 MB/s eta 0:00:16\n",
      "   --- ------------------------------------ 3.1/38.5 MB 2.7 MB/s eta 0:00:14\n",
      "   ---- ----------------------------------- 3.9/38.5 MB 2.9 MB/s eta 0:00:12\n",
      "   ---- ----------------------------------- 4.7/38.5 MB 3.0 MB/s eta 0:00:12\n",
      "   ----- ---------------------------------- 5.2/38.5 MB 3.0 MB/s eta 0:00:12\n",
      "   ----- ---------------------------------- 5.8/38.5 MB 2.8 MB/s eta 0:00:12\n",
      "   ------ --------------------------------- 6.0/38.5 MB 2.8 MB/s eta 0:00:12\n",
      "   ------ --------------------------------- 6.3/38.5 MB 2.7 MB/s eta 0:00:12\n",
      "   ------- -------------------------------- 7.1/38.5 MB 2.7 MB/s eta 0:00:12\n",
      "   -------- ------------------------------- 8.4/38.5 MB 2.9 MB/s eta 0:00:11\n",
      "   --------- ------------------------------ 9.4/38.5 MB 3.1 MB/s eta 0:00:10\n",
      "   ----------- ---------------------------- 11.5/38.5 MB 3.5 MB/s eta 0:00:08\n",
      "   ------------- -------------------------- 13.4/38.5 MB 3.8 MB/s eta 0:00:07\n",
      "   -------------- ------------------------- 13.9/38.5 MB 3.9 MB/s eta 0:00:07\n",
      "   --------------- ------------------------ 14.7/38.5 MB 3.8 MB/s eta 0:00:07\n",
      "   ---------------- ----------------------- 15.7/38.5 MB 3.8 MB/s eta 0:00:06\n",
      "   ---------------- ----------------------- 16.3/38.5 MB 3.8 MB/s eta 0:00:06\n",
      "   ----------------- ---------------------- 16.8/38.5 MB 3.7 MB/s eta 0:00:06\n",
      "   ----------------- ---------------------- 17.3/38.5 MB 3.7 MB/s eta 0:00:06\n",
      "   ------------------ --------------------- 18.1/38.5 MB 3.7 MB/s eta 0:00:06\n",
      "   ------------------- -------------------- 18.6/38.5 MB 3.7 MB/s eta 0:00:06\n",
      "   ------------------- -------------------- 19.1/38.5 MB 3.7 MB/s eta 0:00:06\n",
      "   -------------------- ------------------- 19.9/38.5 MB 3.6 MB/s eta 0:00:06\n",
      "   ---------------------- ----------------- 21.2/38.5 MB 3.7 MB/s eta 0:00:05\n",
      "   ---------------------- ----------------- 22.0/38.5 MB 3.7 MB/s eta 0:00:05\n",
      "   ----------------------- ---------------- 23.1/38.5 MB 3.8 MB/s eta 0:00:05\n",
      "   ------------------------ --------------- 23.3/38.5 MB 3.8 MB/s eta 0:00:05\n",
      "   ------------------------ --------------- 23.9/38.5 MB 3.6 MB/s eta 0:00:05\n",
      "   ------------------------- -------------- 24.6/38.5 MB 3.6 MB/s eta 0:00:04\n",
      "   -------------------------- ------------- 25.2/38.5 MB 3.6 MB/s eta 0:00:04\n",
      "   -------------------------- ------------- 25.7/38.5 MB 3.6 MB/s eta 0:00:04\n",
      "   --------------------------- ------------ 26.2/38.5 MB 3.6 MB/s eta 0:00:04\n",
      "   ---------------------------- ----------- 27.0/38.5 MB 3.5 MB/s eta 0:00:04\n",
      "   ---------------------------- ----------- 27.3/38.5 MB 3.5 MB/s eta 0:00:04\n",
      "   ---------------------------- ----------- 27.8/38.5 MB 3.5 MB/s eta 0:00:04\n",
      "   ----------------------------- ---------- 28.0/38.5 MB 3.4 MB/s eta 0:00:04\n",
      "   ----------------------------- ---------- 28.6/38.5 MB 3.4 MB/s eta 0:00:03\n",
      "   ------------------------------ --------- 29.1/38.5 MB 3.4 MB/s eta 0:00:03\n",
      "   ------------------------------ --------- 29.4/38.5 MB 3.3 MB/s eta 0:00:03\n",
      "   ------------------------------- -------- 30.1/38.5 MB 3.3 MB/s eta 0:00:03\n",
      "   ------------------------------- -------- 30.7/38.5 MB 3.3 MB/s eta 0:00:03\n",
      "   -------------------------------- ------- 31.5/38.5 MB 3.3 MB/s eta 0:00:03\n",
      "   --------------------------------- ------ 32.0/38.5 MB 3.3 MB/s eta 0:00:02\n",
      "   --------------------------------- ------ 32.5/38.5 MB 3.3 MB/s eta 0:00:02\n",
      "   ---------------------------------- ----- 33.3/38.5 MB 3.3 MB/s eta 0:00:02\n",
      "   ----------------------------------- ---- 33.8/38.5 MB 3.3 MB/s eta 0:00:02\n",
      "   ----------------------------------- ---- 34.1/38.5 MB 3.2 MB/s eta 0:00:02\n",
      "   ----------------------------------- ---- 34.6/38.5 MB 3.2 MB/s eta 0:00:02\n",
      "   ------------------------------------ --- 35.4/38.5 MB 3.2 MB/s eta 0:00:01\n",
      "   ------------------------------------- -- 35.9/38.5 MB 3.2 MB/s eta 0:00:01\n",
      "   ------------------------------------- -- 36.4/38.5 MB 3.2 MB/s eta 0:00:01\n",
      "   -------------------------------------- - 37.0/38.5 MB 3.2 MB/s eta 0:00:01\n",
      "   ---------------------------------------  37.7/38.5 MB 3.2 MB/s eta 0:00:01\n",
      "   ---------------------------------------  38.3/38.5 MB 3.2 MB/s eta 0:00:01\n",
      "   ---------------------------------------- 38.5/38.5 MB 3.2 MB/s  0:00:12\n",
      "Installing collected packages: scipy\n",
      "Successfully installed scipy-1.16.1\n"
     ]
    }
   ],
   "source": [
    "!python -m pip install scipy\n"
   ]
  },
  {
   "cell_type": "code",
   "execution_count": null,
   "id": "f0ea9266",
   "metadata": {},
   "outputs": [],
   "source": []
  }
 ],
 "metadata": {
  "kernelspec": {
   "display_name": "Python 3",
   "language": "python",
   "name": "python3"
  },
  "language_info": {
   "codemirror_mode": {
    "name": "ipython",
    "version": 3
   },
   "file_extension": ".py",
   "mimetype": "text/x-python",
   "name": "python",
   "nbconvert_exporter": "python",
   "pygments_lexer": "ipython3",
   "version": "3.13.6"
  }
 },
 "nbformat": 4,
 "nbformat_minor": 5
}
